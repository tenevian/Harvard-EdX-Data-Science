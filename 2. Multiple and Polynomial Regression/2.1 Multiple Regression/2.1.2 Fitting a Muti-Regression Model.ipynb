{
    "metadata": {
        "kernelspec": {
            "name": "python3",
            "display_name": "Python 3 (ipykernel)",
            "language": "python"
        }
    },
    "nbformat": 4,
    "nbformat_minor": 2,
    "cells": [
        {
            "cell_type": "code",
            "execution_count": 8,
            "metadata": {},
            "outputs": [],
            "source": [
                "# Import necessary libraries\n",
                "import numpy as np\n",
                "import pandas as pd\n",
                "import matplotlib.pyplot as plt\n",
                "from sklearn import preprocessing\n",
                "from prettytable import PrettyTable\n",
                "from sklearn.metrics import mean_squared_error\n",
                "from sklearn.linear_model import LinearRegression\n",
                "from sklearn.model_selection import train_test_split\n",
                "%matplotlib inline"
            ]
        },
        {
            "attachments": {},
            "cell_type": "markdown",
            "metadata": {},
            "source": [
                "### Reading the dataset"
            ]
        },
        {
            "cell_type": "code",
            "execution_count": 9,
            "metadata": {},
            "outputs": [],
            "source": [
                "# Read the file \"Advertising.csv\"\n",
                "df = pd.read_csv('Advertising.csv')"
            ]
        },
        {
            "cell_type": "code",
            "execution_count": 10,
            "metadata": {},
            "outputs": [
                {
                    "data": {
                        "text/html": "\u003cdiv\u003e\n\u003cstyle scoped\u003e\n    .dataframe tbody tr th:only-of-type {\n        vertical-align: middle;\n    }\n\n    .dataframe tbody tr th {\n        vertical-align: top;\n    }\n\n    .dataframe thead th {\n        text-align: right;\n    }\n\u003c/style\u003e\n\u003ctable border=\"1\" class=\"dataframe\"\u003e\n  \u003cthead\u003e\n    \u003ctr style=\"text-align: right;\"\u003e\n      \u003cth\u003e\u003c/th\u003e\n      \u003cth\u003eTV\u003c/th\u003e\n      \u003cth\u003eRadio\u003c/th\u003e\n      \u003cth\u003eNewspaper\u003c/th\u003e\n      \u003cth\u003eSales\u003c/th\u003e\n    \u003c/tr\u003e\n  \u003c/thead\u003e\n  \u003ctbody\u003e\n    \u003ctr\u003e\n      \u003cth\u003e0\u003c/th\u003e\n      \u003ctd\u003e230.1\u003c/td\u003e\n      \u003ctd\u003e37.8\u003c/td\u003e\n      \u003ctd\u003e69.2\u003c/td\u003e\n      \u003ctd\u003e22.1\u003c/td\u003e\n    \u003c/tr\u003e\n    \u003ctr\u003e\n      \u003cth\u003e1\u003c/th\u003e\n      \u003ctd\u003e44.5\u003c/td\u003e\n      \u003ctd\u003e39.3\u003c/td\u003e\n      \u003ctd\u003e45.1\u003c/td\u003e\n      \u003ctd\u003e10.4\u003c/td\u003e\n    \u003c/tr\u003e\n    \u003ctr\u003e\n      \u003cth\u003e2\u003c/th\u003e\n      \u003ctd\u003e17.2\u003c/td\u003e\n      \u003ctd\u003e45.9\u003c/td\u003e\n      \u003ctd\u003e69.3\u003c/td\u003e\n      \u003ctd\u003e9.3\u003c/td\u003e\n    \u003c/tr\u003e\n    \u003ctr\u003e\n      \u003cth\u003e3\u003c/th\u003e\n      \u003ctd\u003e151.5\u003c/td\u003e\n      \u003ctd\u003e41.3\u003c/td\u003e\n      \u003ctd\u003e58.5\u003c/td\u003e\n      \u003ctd\u003e18.5\u003c/td\u003e\n    \u003c/tr\u003e\n    \u003ctr\u003e\n      \u003cth\u003e4\u003c/th\u003e\n      \u003ctd\u003e180.8\u003c/td\u003e\n      \u003ctd\u003e10.8\u003c/td\u003e\n      \u003ctd\u003e58.4\u003c/td\u003e\n      \u003ctd\u003e12.9\u003c/td\u003e\n    \u003c/tr\u003e\n  \u003c/tbody\u003e\n\u003c/table\u003e\n\u003c/div\u003e",
                        "text/plain": "      TV  Radio  Newspaper  Sales\n0  230.1   37.8       69.2   22.1\n1   44.5   39.3       45.1   10.4\n2   17.2   45.9       69.3    9.3\n3  151.5   41.3       58.5   18.5\n4  180.8   10.8       58.4   12.9"
                    },
                    "execution_count": 10,
                    "metadata": {},
                    "output_type": "execute_result"
                }
            ],
            "source": [
                "# Take a quick look at the data to list all the predictors\n",
                "df.head()"
            ]
        },
        {
            "attachments": {},
            "cell_type": "markdown",
            "metadata": {},
            "source": [
                "### Create different multi predictor models "
            ]
        },
        {
            "cell_type": "code",
            "execution_count": 12,
            "metadata": {},
            "outputs": [],
            "source": [
                "### edTest(test_mse) ###\n",
                "from itertools import combinations\n",
                "\n",
                "# Initialize a list to store the MSE values\n",
                "mse_list = []\n",
                "\n",
                "# Create a list of lists of all unique predictor combinations\n",
                "# For example, if you have 2 predictors,  A and B, you would \n",
                "# end up with [['A'],['B'],['A','B']]\n",
                "predictor_cols=df.columns.drop('Sales')\n",
                "cols = [list(combo) for k in range(1, len(predictor_cols)+1) for combo in combinations(predictor_cols,k)]\n",
                "\n",
                "# Loop over all the predictor combinations \n",
                "for i in cols:\n",
                "\n",
                "    # Set each of the predictors from the previous list as x\n",
                "    x = df[i]\n",
                "    \n",
                "    # Set the \"Sales\" column as the reponse variable\n",
                "    y = df['Sales']\n",
                "   \n",
                "    # Split the data into train-test sets with 80% training data and 20% testing data. \n",
                "    # Set random_state as 0\n",
                "    x_train, x_test, y_train, y_test = train_test_split(x, y, test_size=0.2, random_state=0)\n",
                "\n",
                "    # Initialize a Linear Regression model\n",
                "    lreg = LinearRegression()\n",
                "\n",
                "    # Fit the linear model on the train data\n",
                "    lreg.fit(x_train, y_train)\n",
                "\n",
                "    # Predict the response variable for the test set using the trained model\n",
                "    y_pred = lreg.predict(x_test)\n",
                "    \n",
                "    # Compute the MSE for the test data\n",
                "    MSE = mean_squared_error(y_test, y_pred)\n",
                "    \n",
                "    # Append the computed MSE to the initialized list\n",
                "    mse_list.append(MSE)"
            ]
        },
        {
            "attachments": {},
            "cell_type": "markdown",
            "metadata": {},
            "source": [
                "### Display the MSE with predictor combinations"
            ]
        },
        {
            "cell_type": "code",
            "execution_count": 13,
            "metadata": {},
            "outputs": [
                {
                    "name": "stdout",
                    "output_type": "stream",
                    "text": "+------------------------------+--------+\n|          Predictors          |  MSE   |\n+------------------------------+--------+\n|            ['TV']            | 10.186 |\n|          ['Radio']           | 24.237 |\n|        ['Newspaper']         | 32.137 |\n|       ['TV', 'Radio']        | 4.391  |\n|     ['TV', 'Newspaper']      | 8.688  |\n|    ['Radio', 'Newspaper']    | 24.783 |\n| ['TV', 'Radio', 'Newspaper'] | 4.402  |\n+------------------------------+--------+\n"
                }
            ],
            "source": [
                "# Helper code to display the MSE for each predictor combination\n",
                "t = PrettyTable(['Predictors', 'MSE'])\n",
                "\n",
                "for i in range(len(mse_list)):\n",
                "    t.add_row([cols[i],round(mse_list[i],3)])\n",
                "\n",
                "print(t)"
            ]
        }
    ]
}
